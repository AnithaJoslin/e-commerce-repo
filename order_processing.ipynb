{
 "cells": [
  {
   "cell_type": "code",
   "execution_count": 170,
   "id": "d99ab77e-c0b7-40ae-a10a-442bd4278b0a",
   "metadata": {
    "tags": []
   },
   "outputs": [],
   "source": [
    "from google.cloud import bigquery\n",
    "import pandas as pd\n",
    "import numpy as np\n",
    "import matplotlib.pyplot as plt\n",
    "import seaborn as sns\n",
    "\n",
    "pd.set_option('display.max_columns', None)"
   ]
  },
  {
   "cell_type": "code",
   "execution_count": 101,
   "id": "94d24037-51bc-405b-a5c4-6eda225a7ef4",
   "metadata": {
    "tags": []
   },
   "outputs": [],
   "source": [
    "client = bigquery.Client()"
   ]
  },
  {
   "cell_type": "code",
   "execution_count": 102,
   "id": "d6ada0fd-7b35-489a-84b9-f6a5584407dc",
   "metadata": {
    "tags": []
   },
   "outputs": [],
   "source": [
    "query = \"\"\"\n",
    "SELECT *\n",
    "FROM bigquery-public-data.thelook_ecommerce.order_items\n",
    "WHERE FORMAT_DATE('%Y-%m', created_at) = '2025-06'\n",
    "\"\"\"\n",
    "order_df = client.query(query).to_dataframe()"
   ]
  },
  {
   "cell_type": "code",
   "execution_count": 103,
   "id": "b6c2848b-c9f7-4ac7-b048-27e6be9fc8b2",
   "metadata": {
    "tags": []
   },
   "outputs": [
    {
     "data": {
      "text/plain": [
       "(Timestamp('2025-06-01 00:00:59+0000', tz='UTC'),\n",
       " Timestamp('2025-06-30 23:59:39+0000', tz='UTC'))"
      ]
     },
     "execution_count": 103,
     "metadata": {},
     "output_type": "execute_result"
    }
   ],
   "source": [
    "order_df['created_at'].min(), order_df['created_at'].max()"
   ]
  },
  {
   "cell_type": "code",
   "execution_count": 104,
   "id": "cb25c1e9-d2ef-4b6b-9bc6-b905242a9493",
   "metadata": {
    "tags": []
   },
   "outputs": [
    {
     "data": {
      "text/plain": [
       "(Timestamp('2025-05-29 18:29:00+0000', tz='UTC'),\n",
       " Timestamp('2025-07-08 08:40:00+0000', tz='UTC'))"
      ]
     },
     "execution_count": 104,
     "metadata": {},
     "output_type": "execute_result"
    }
   ],
   "source": [
    "order_df['delivered_at'].min(), order_df['delivered_at'].max()"
   ]
  },
  {
   "cell_type": "code",
   "execution_count": 105,
   "id": "01aeb7b3-9db5-4a28-855d-73ec1c035603",
   "metadata": {
    "tags": []
   },
   "outputs": [
    {
     "data": {
      "text/html": [
       "<div>\n",
       "<style scoped>\n",
       "    .dataframe tbody tr th:only-of-type {\n",
       "        vertical-align: middle;\n",
       "    }\n",
       "\n",
       "    .dataframe tbody tr th {\n",
       "        vertical-align: top;\n",
       "    }\n",
       "\n",
       "    .dataframe thead th {\n",
       "        text-align: right;\n",
       "    }\n",
       "</style>\n",
       "<table border=\"1\" class=\"dataframe\">\n",
       "  <thead>\n",
       "    <tr style=\"text-align: right;\">\n",
       "      <th></th>\n",
       "      <th>id</th>\n",
       "      <th>order_id</th>\n",
       "      <th>user_id</th>\n",
       "      <th>product_id</th>\n",
       "      <th>inventory_item_id</th>\n",
       "      <th>status</th>\n",
       "      <th>created_at</th>\n",
       "      <th>shipped_at</th>\n",
       "      <th>delivered_at</th>\n",
       "      <th>returned_at</th>\n",
       "      <th>sale_price</th>\n",
       "    </tr>\n",
       "  </thead>\n",
       "  <tbody>\n",
       "    <tr>\n",
       "      <th>0</th>\n",
       "      <td>83423</td>\n",
       "      <td>57469</td>\n",
       "      <td>46209</td>\n",
       "      <td>14159</td>\n",
       "      <td>225145</td>\n",
       "      <td>Cancelled</td>\n",
       "      <td>2025-06-09 10:05:31+00:00</td>\n",
       "      <td>NaT</td>\n",
       "      <td>NaT</td>\n",
       "      <td>NaT</td>\n",
       "      <td>0.49</td>\n",
       "    </tr>\n",
       "    <tr>\n",
       "      <th>1</th>\n",
       "      <td>177565</td>\n",
       "      <td>122267</td>\n",
       "      <td>97924</td>\n",
       "      <td>28589</td>\n",
       "      <td>478804</td>\n",
       "      <td>Cancelled</td>\n",
       "      <td>2025-06-11 05:00:13+00:00</td>\n",
       "      <td>NaT</td>\n",
       "      <td>NaT</td>\n",
       "      <td>NaT</td>\n",
       "      <td>2.95</td>\n",
       "    </tr>\n",
       "  </tbody>\n",
       "</table>\n",
       "</div>"
      ],
      "text/plain": [
       "       id  order_id  user_id  product_id  inventory_item_id     status  \\\n",
       "0   83423     57469    46209       14159             225145  Cancelled   \n",
       "1  177565    122267    97924       28589             478804  Cancelled   \n",
       "\n",
       "                 created_at shipped_at delivered_at returned_at  sale_price  \n",
       "0 2025-06-09 10:05:31+00:00        NaT          NaT         NaT        0.49  \n",
       "1 2025-06-11 05:00:13+00:00        NaT          NaT         NaT        2.95  "
      ]
     },
     "execution_count": 105,
     "metadata": {},
     "output_type": "execute_result"
    }
   ],
   "source": [
    "order_df.head(2)"
   ]
  },
  {
   "cell_type": "code",
   "execution_count": 106,
   "id": "14613f9b-7654-472a-8126-144f3bc771a4",
   "metadata": {
    "tags": []
   },
   "outputs": [],
   "source": [
    "users_no = order_df['user_id'].unique().tolist()\n",
    "# users_no"
   ]
  },
  {
   "cell_type": "code",
   "execution_count": 107,
   "id": "6a99f8e4-b28d-484a-a9b8-d38c6eba817b",
   "metadata": {
    "tags": []
   },
   "outputs": [],
   "source": [
    "query = f\"\"\"\n",
    "SELECT * \n",
    "FROM bigquery-public-data.thelook_ecommerce.users\n",
    "WHERE id in {tuple(users_no)}\n",
    "\"\"\"\n",
    "user_data = client.query(query).to_dataframe()"
   ]
  },
  {
   "cell_type": "code",
   "execution_count": 108,
   "id": "e48e9063-07d6-47d1-8680-1428a3cb9647",
   "metadata": {
    "tags": []
   },
   "outputs": [
    {
     "data": {
      "text/plain": [
       "id                0\n",
       "first_name        0\n",
       "last_name         0\n",
       "email             0\n",
       "age               0\n",
       "gender            0\n",
       "state             0\n",
       "street_address    0\n",
       "postal_code       0\n",
       "city              0\n",
       "country           0\n",
       "latitude          0\n",
       "longitude         0\n",
       "traffic_source    0\n",
       "created_at        0\n",
       "user_geom         0\n",
       "dtype: int64"
      ]
     },
     "execution_count": 108,
     "metadata": {},
     "output_type": "execute_result"
    }
   ],
   "source": [
    "user_data.isna().sum()"
   ]
  },
  {
   "cell_type": "code",
   "execution_count": 109,
   "id": "c75aadec-b065-414b-ae18-9d46444a621c",
   "metadata": {
    "tags": []
   },
   "outputs": [],
   "source": [
    "products_id = order_df['product_id'].unique().tolist()\n",
    "query = f\"\"\"\n",
    "SELECT *\n",
    "FROM bigquery-public-data.thelook_ecommerce.products\n",
    "WHERE id IN {tuple(products_id)}\n",
    "\"\"\"\n",
    "products_df = client.query(query).to_dataframe()"
   ]
  },
  {
   "cell_type": "code",
   "execution_count": 110,
   "id": "65ff3eca-52be-45cb-b309-c50953525c22",
   "metadata": {
    "tags": []
   },
   "outputs": [
    {
     "data": {
      "text/plain": [
       "(8117, 9)"
      ]
     },
     "execution_count": 110,
     "metadata": {},
     "output_type": "execute_result"
    }
   ],
   "source": [
    "products_df.shape"
   ]
  },
  {
   "cell_type": "code",
   "execution_count": 142,
   "id": "0caadf34-14e1-4303-86aa-26631b87f2d6",
   "metadata": {
    "tags": []
   },
   "outputs": [],
   "source": [
    "dist_ids = products_df['distribution_center_id'].unique().tolist()\n",
    "query = f\"\"\"\n",
    "SELECT *\n",
    "FROM bigquery-public-data.thelook_ecommerce.distribution_centers\n",
    "WHERE id IN {tuple(dist_ids)}\n",
    "\"\"\"\n",
    "dist_centre_df = client.query(query).to_dataframe()"
   ]
  },
  {
   "cell_type": "code",
   "execution_count": 143,
   "id": "3188c5d2-4ed0-49b0-ab20-e5058c9eb3a2",
   "metadata": {
    "tags": []
   },
   "outputs": [
    {
     "data": {
      "text/html": [
       "<div>\n",
       "<style scoped>\n",
       "    .dataframe tbody tr th:only-of-type {\n",
       "        vertical-align: middle;\n",
       "    }\n",
       "\n",
       "    .dataframe tbody tr th {\n",
       "        vertical-align: top;\n",
       "    }\n",
       "\n",
       "    .dataframe thead th {\n",
       "        text-align: right;\n",
       "    }\n",
       "</style>\n",
       "<table border=\"1\" class=\"dataframe\">\n",
       "  <thead>\n",
       "    <tr style=\"text-align: right;\">\n",
       "      <th></th>\n",
       "      <th>id</th>\n",
       "      <th>name</th>\n",
       "      <th>latitude</th>\n",
       "      <th>longitude</th>\n",
       "      <th>distribution_center_geom</th>\n",
       "    </tr>\n",
       "  </thead>\n",
       "  <tbody>\n",
       "    <tr>\n",
       "      <th>0</th>\n",
       "      <td>10</td>\n",
       "      <td>Savannah GA</td>\n",
       "      <td>32.0167</td>\n",
       "      <td>-81.1167</td>\n",
       "      <td>POINT(-81.1167 32.0167)</td>\n",
       "    </tr>\n",
       "    <tr>\n",
       "      <th>1</th>\n",
       "      <td>4</td>\n",
       "      <td>Los Angeles CA</td>\n",
       "      <td>34.0500</td>\n",
       "      <td>-118.2500</td>\n",
       "      <td>POINT(-118.25 34.05)</td>\n",
       "    </tr>\n",
       "  </tbody>\n",
       "</table>\n",
       "</div>"
      ],
      "text/plain": [
       "   id            name  latitude  longitude distribution_center_geom\n",
       "0  10     Savannah GA   32.0167   -81.1167  POINT(-81.1167 32.0167)\n",
       "1   4  Los Angeles CA   34.0500  -118.2500     POINT(-118.25 34.05)"
      ]
     },
     "execution_count": 143,
     "metadata": {},
     "output_type": "execute_result"
    }
   ],
   "source": [
    "dist_centre_df.head(2)"
   ]
  },
  {
   "cell_type": "code",
   "execution_count": 113,
   "id": "17b6ee26-0c2f-4887-86e9-0f744ef7b2af",
   "metadata": {
    "tags": []
   },
   "outputs": [
    {
     "data": {
      "text/html": [
       "<div>\n",
       "<style scoped>\n",
       "    .dataframe tbody tr th:only-of-type {\n",
       "        vertical-align: middle;\n",
       "    }\n",
       "\n",
       "    .dataframe tbody tr th {\n",
       "        vertical-align: top;\n",
       "    }\n",
       "\n",
       "    .dataframe thead th {\n",
       "        text-align: right;\n",
       "    }\n",
       "</style>\n",
       "<table border=\"1\" class=\"dataframe\">\n",
       "  <thead>\n",
       "    <tr style=\"text-align: right;\">\n",
       "      <th></th>\n",
       "      <th>id</th>\n",
       "      <th>cost</th>\n",
       "      <th>category</th>\n",
       "      <th>name</th>\n",
       "      <th>brand</th>\n",
       "      <th>retail_price</th>\n",
       "      <th>department</th>\n",
       "      <th>sku</th>\n",
       "      <th>distribution_center_id</th>\n",
       "    </tr>\n",
       "  </thead>\n",
       "  <tbody>\n",
       "    <tr>\n",
       "      <th>0</th>\n",
       "      <td>14157</td>\n",
       "      <td>4.64877</td>\n",
       "      <td>Accessories</td>\n",
       "      <td>Enzyme Regular Solid Army Caps-Olive W35S45D (...</td>\n",
       "      <td>MG</td>\n",
       "      <td>10.99</td>\n",
       "      <td>Women</td>\n",
       "      <td>00BD13095D06C20B11A2993CA419D16B</td>\n",
       "      <td>1</td>\n",
       "    </tr>\n",
       "    <tr>\n",
       "      <th>1</th>\n",
       "      <td>14273</td>\n",
       "      <td>6.50793</td>\n",
       "      <td>Accessories</td>\n",
       "      <td>Washed Canvas Ivy Cap - Black W11S64C</td>\n",
       "      <td>MG</td>\n",
       "      <td>15.99</td>\n",
       "      <td>Women</td>\n",
       "      <td>F531DC20FDE20B7ADF3A73F52B71D0AF</td>\n",
       "      <td>1</td>\n",
       "    </tr>\n",
       "  </tbody>\n",
       "</table>\n",
       "</div>"
      ],
      "text/plain": [
       "      id     cost     category  \\\n",
       "0  14157  4.64877  Accessories   \n",
       "1  14273  6.50793  Accessories   \n",
       "\n",
       "                                                name brand  retail_price  \\\n",
       "0  Enzyme Regular Solid Army Caps-Olive W35S45D (...    MG         10.99   \n",
       "1              Washed Canvas Ivy Cap - Black W11S64C    MG         15.99   \n",
       "\n",
       "  department                               sku  distribution_center_id  \n",
       "0      Women  00BD13095D06C20B11A2993CA419D16B                       1  \n",
       "1      Women  F531DC20FDE20B7ADF3A73F52B71D0AF                       1  "
      ]
     },
     "execution_count": 113,
     "metadata": {},
     "output_type": "execute_result"
    }
   ],
   "source": [
    "products_df.head(2)"
   ]
  },
  {
   "cell_type": "code",
   "execution_count": 114,
   "id": "f3a6935c-5f8c-4c7f-b2e0-4a5aea6d4333",
   "metadata": {
    "tags": []
   },
   "outputs": [
    {
     "data": {
      "text/html": [
       "<div>\n",
       "<style scoped>\n",
       "    .dataframe tbody tr th:only-of-type {\n",
       "        vertical-align: middle;\n",
       "    }\n",
       "\n",
       "    .dataframe tbody tr th {\n",
       "        vertical-align: top;\n",
       "    }\n",
       "\n",
       "    .dataframe thead th {\n",
       "        text-align: right;\n",
       "    }\n",
       "</style>\n",
       "<table border=\"1\" class=\"dataframe\">\n",
       "  <thead>\n",
       "    <tr style=\"text-align: right;\">\n",
       "      <th></th>\n",
       "      <th>id</th>\n",
       "      <th>first_name</th>\n",
       "      <th>last_name</th>\n",
       "      <th>email</th>\n",
       "      <th>age</th>\n",
       "      <th>gender</th>\n",
       "      <th>state</th>\n",
       "      <th>street_address</th>\n",
       "      <th>postal_code</th>\n",
       "      <th>city</th>\n",
       "      <th>country</th>\n",
       "      <th>latitude</th>\n",
       "      <th>longitude</th>\n",
       "      <th>traffic_source</th>\n",
       "      <th>created_at</th>\n",
       "      <th>user_geom</th>\n",
       "    </tr>\n",
       "  </thead>\n",
       "  <tbody>\n",
       "    <tr>\n",
       "      <th>0</th>\n",
       "      <td>41589</td>\n",
       "      <td>Beth</td>\n",
       "      <td>Morgan</td>\n",
       "      <td>bethmorgan@example.com</td>\n",
       "      <td>48</td>\n",
       "      <td>F</td>\n",
       "      <td>Acre</td>\n",
       "      <td>4585 Neal Heights</td>\n",
       "      <td>69980-000</td>\n",
       "      <td>null</td>\n",
       "      <td>Brasil</td>\n",
       "      <td>-8.065346</td>\n",
       "      <td>-72.870949</td>\n",
       "      <td>Search</td>\n",
       "      <td>2024-02-04 04:00:00+00:00</td>\n",
       "      <td>POINT(-72.87094866 -8.065346116)</td>\n",
       "    </tr>\n",
       "    <tr>\n",
       "      <th>1</th>\n",
       "      <td>92485</td>\n",
       "      <td>Brandon</td>\n",
       "      <td>Randall</td>\n",
       "      <td>brandonrandall@example.com</td>\n",
       "      <td>28</td>\n",
       "      <td>M</td>\n",
       "      <td>Acre</td>\n",
       "      <td>326 David Dale Suite 544</td>\n",
       "      <td>69980-000</td>\n",
       "      <td>null</td>\n",
       "      <td>Brasil</td>\n",
       "      <td>-8.065346</td>\n",
       "      <td>-72.870949</td>\n",
       "      <td>Email</td>\n",
       "      <td>2020-11-04 17:11:00+00:00</td>\n",
       "      <td>POINT(-72.87094866 -8.065346116)</td>\n",
       "    </tr>\n",
       "  </tbody>\n",
       "</table>\n",
       "</div>"
      ],
      "text/plain": [
       "      id first_name last_name                       email  age gender state  \\\n",
       "0  41589       Beth    Morgan      bethmorgan@example.com   48      F  Acre   \n",
       "1  92485    Brandon   Randall  brandonrandall@example.com   28      M  Acre   \n",
       "\n",
       "             street_address postal_code  city country  latitude  longitude  \\\n",
       "0         4585 Neal Heights   69980-000  null  Brasil -8.065346 -72.870949   \n",
       "1  326 David Dale Suite 544   69980-000  null  Brasil -8.065346 -72.870949   \n",
       "\n",
       "  traffic_source                created_at                         user_geom  \n",
       "0         Search 2024-02-04 04:00:00+00:00  POINT(-72.87094866 -8.065346116)  \n",
       "1          Email 2020-11-04 17:11:00+00:00  POINT(-72.87094866 -8.065346116)  "
      ]
     },
     "execution_count": 114,
     "metadata": {},
     "output_type": "execute_result"
    }
   ],
   "source": [
    "user_data.head(2)"
   ]
  },
  {
   "cell_type": "code",
   "execution_count": 115,
   "id": "f851b78a-786f-4bdb-9dd3-edccebff25c0",
   "metadata": {
    "tags": []
   },
   "outputs": [],
   "source": [
    "query = \"\"\"\n",
    "SELECT *\n",
    "FROM bigquery-public-data.thelook_ecommerce.orders\n",
    "WHERE FORMAT_DATE('%Y-%m', created_at) = '2025-06'\n",
    "\"\"\"\n",
    "orders = client.query(query).to_dataframe()"
   ]
  },
  {
   "cell_type": "code",
   "execution_count": 116,
   "id": "a2c070c0-f116-4734-aa85-bbb90aa2a260",
   "metadata": {
    "tags": []
   },
   "outputs": [
    {
     "data": {
      "text/plain": [
       "(6536, 9)"
      ]
     },
     "execution_count": 116,
     "metadata": {},
     "output_type": "execute_result"
    }
   ],
   "source": [
    "orders.shape"
   ]
  },
  {
   "cell_type": "code",
   "execution_count": 117,
   "id": "3e6fa006-2f01-45bd-8558-a9dae46648c6",
   "metadata": {
    "tags": []
   },
   "outputs": [
    {
     "data": {
      "text/plain": [
       "(9535, 11)"
      ]
     },
     "execution_count": 117,
     "metadata": {},
     "output_type": "execute_result"
    }
   ],
   "source": [
    "order_df.shape"
   ]
  },
  {
   "cell_type": "code",
   "execution_count": 118,
   "id": "56e2cd25-e231-4cc3-8440-e55d3f6beecd",
   "metadata": {
    "tags": []
   },
   "outputs": [
    {
     "data": {
      "text/html": [
       "<div>\n",
       "<style scoped>\n",
       "    .dataframe tbody tr th:only-of-type {\n",
       "        vertical-align: middle;\n",
       "    }\n",
       "\n",
       "    .dataframe tbody tr th {\n",
       "        vertical-align: top;\n",
       "    }\n",
       "\n",
       "    .dataframe thead th {\n",
       "        text-align: right;\n",
       "    }\n",
       "</style>\n",
       "<table border=\"1\" class=\"dataframe\">\n",
       "  <thead>\n",
       "    <tr style=\"text-align: right;\">\n",
       "      <th></th>\n",
       "      <th>order_id</th>\n",
       "      <th>user_id</th>\n",
       "      <th>status</th>\n",
       "      <th>gender</th>\n",
       "      <th>created_at</th>\n",
       "      <th>returned_at</th>\n",
       "      <th>shipped_at</th>\n",
       "      <th>delivered_at</th>\n",
       "      <th>num_of_item</th>\n",
       "    </tr>\n",
       "  </thead>\n",
       "  <tbody>\n",
       "    <tr>\n",
       "      <th>0</th>\n",
       "      <td>13</td>\n",
       "      <td>12</td>\n",
       "      <td>Cancelled</td>\n",
       "      <td>F</td>\n",
       "      <td>2025-06-21 03:16:00+00:00</td>\n",
       "      <td>NaT</td>\n",
       "      <td>NaT</td>\n",
       "      <td>NaT</td>\n",
       "      <td>1</td>\n",
       "    </tr>\n",
       "    <tr>\n",
       "      <th>1</th>\n",
       "      <td>657</td>\n",
       "      <td>558</td>\n",
       "      <td>Cancelled</td>\n",
       "      <td>F</td>\n",
       "      <td>2025-06-15 01:48:00+00:00</td>\n",
       "      <td>NaT</td>\n",
       "      <td>NaT</td>\n",
       "      <td>NaT</td>\n",
       "      <td>1</td>\n",
       "    </tr>\n",
       "  </tbody>\n",
       "</table>\n",
       "</div>"
      ],
      "text/plain": [
       "   order_id  user_id     status gender                created_at returned_at  \\\n",
       "0        13       12  Cancelled      F 2025-06-21 03:16:00+00:00         NaT   \n",
       "1       657      558  Cancelled      F 2025-06-15 01:48:00+00:00         NaT   \n",
       "\n",
       "  shipped_at delivered_at  num_of_item  \n",
       "0        NaT          NaT            1  \n",
       "1        NaT          NaT            1  "
      ]
     },
     "execution_count": 118,
     "metadata": {},
     "output_type": "execute_result"
    }
   ],
   "source": [
    "orders.head(2)"
   ]
  },
  {
   "cell_type": "code",
   "execution_count": 119,
   "id": "959f1281-9b22-4ebe-81ec-749849d4db68",
   "metadata": {
    "tags": []
   },
   "outputs": [
    {
     "data": {
      "text/html": [
       "<div>\n",
       "<style scoped>\n",
       "    .dataframe tbody tr th:only-of-type {\n",
       "        vertical-align: middle;\n",
       "    }\n",
       "\n",
       "    .dataframe tbody tr th {\n",
       "        vertical-align: top;\n",
       "    }\n",
       "\n",
       "    .dataframe thead th {\n",
       "        text-align: right;\n",
       "    }\n",
       "</style>\n",
       "<table border=\"1\" class=\"dataframe\">\n",
       "  <thead>\n",
       "    <tr style=\"text-align: right;\">\n",
       "      <th></th>\n",
       "      <th>id</th>\n",
       "      <th>order_id</th>\n",
       "      <th>user_id</th>\n",
       "      <th>product_id</th>\n",
       "      <th>inventory_item_id</th>\n",
       "      <th>status</th>\n",
       "      <th>created_at</th>\n",
       "      <th>shipped_at</th>\n",
       "      <th>delivered_at</th>\n",
       "      <th>returned_at</th>\n",
       "      <th>sale_price</th>\n",
       "    </tr>\n",
       "  </thead>\n",
       "  <tbody>\n",
       "    <tr>\n",
       "      <th>0</th>\n",
       "      <td>83423</td>\n",
       "      <td>57469</td>\n",
       "      <td>46209</td>\n",
       "      <td>14159</td>\n",
       "      <td>225145</td>\n",
       "      <td>Cancelled</td>\n",
       "      <td>2025-06-09 10:05:31+00:00</td>\n",
       "      <td>NaT</td>\n",
       "      <td>NaT</td>\n",
       "      <td>NaT</td>\n",
       "      <td>0.49</td>\n",
       "    </tr>\n",
       "    <tr>\n",
       "      <th>1</th>\n",
       "      <td>177565</td>\n",
       "      <td>122267</td>\n",
       "      <td>97924</td>\n",
       "      <td>28589</td>\n",
       "      <td>478804</td>\n",
       "      <td>Cancelled</td>\n",
       "      <td>2025-06-11 05:00:13+00:00</td>\n",
       "      <td>NaT</td>\n",
       "      <td>NaT</td>\n",
       "      <td>NaT</td>\n",
       "      <td>2.95</td>\n",
       "    </tr>\n",
       "  </tbody>\n",
       "</table>\n",
       "</div>"
      ],
      "text/plain": [
       "       id  order_id  user_id  product_id  inventory_item_id     status  \\\n",
       "0   83423     57469    46209       14159             225145  Cancelled   \n",
       "1  177565    122267    97924       28589             478804  Cancelled   \n",
       "\n",
       "                 created_at shipped_at delivered_at returned_at  sale_price  \n",
       "0 2025-06-09 10:05:31+00:00        NaT          NaT         NaT        0.49  \n",
       "1 2025-06-11 05:00:13+00:00        NaT          NaT         NaT        2.95  "
      ]
     },
     "execution_count": 119,
     "metadata": {},
     "output_type": "execute_result"
    }
   ],
   "source": [
    "order_df.head(2)"
   ]
  },
  {
   "cell_type": "code",
   "execution_count": 120,
   "id": "1f01ceec-31a4-4225-a611-71980101dbcd",
   "metadata": {
    "tags": []
   },
   "outputs": [
    {
     "data": {
      "text/html": [
       "<div>\n",
       "<style scoped>\n",
       "    .dataframe tbody tr th:only-of-type {\n",
       "        vertical-align: middle;\n",
       "    }\n",
       "\n",
       "    .dataframe tbody tr th {\n",
       "        vertical-align: top;\n",
       "    }\n",
       "\n",
       "    .dataframe thead th {\n",
       "        text-align: right;\n",
       "    }\n",
       "</style>\n",
       "<table border=\"1\" class=\"dataframe\">\n",
       "  <thead>\n",
       "    <tr style=\"text-align: right;\">\n",
       "      <th></th>\n",
       "      <th>order_id</th>\n",
       "      <th>user_id</th>\n",
       "      <th>status</th>\n",
       "      <th>gender</th>\n",
       "      <th>created_at</th>\n",
       "      <th>returned_at</th>\n",
       "      <th>shipped_at</th>\n",
       "      <th>delivered_at</th>\n",
       "      <th>num_of_item</th>\n",
       "    </tr>\n",
       "  </thead>\n",
       "  <tbody>\n",
       "    <tr>\n",
       "      <th>1</th>\n",
       "      <td>657</td>\n",
       "      <td>558</td>\n",
       "      <td>Cancelled</td>\n",
       "      <td>F</td>\n",
       "      <td>2025-06-15 01:48:00+00:00</td>\n",
       "      <td>NaT</td>\n",
       "      <td>NaT</td>\n",
       "      <td>NaT</td>\n",
       "      <td>1</td>\n",
       "    </tr>\n",
       "  </tbody>\n",
       "</table>\n",
       "</div>"
      ],
      "text/plain": [
       "   order_id  user_id     status gender                created_at returned_at  \\\n",
       "1       657      558  Cancelled      F 2025-06-15 01:48:00+00:00         NaT   \n",
       "\n",
       "  shipped_at delivered_at  num_of_item  \n",
       "1        NaT          NaT            1  "
      ]
     },
     "execution_count": 120,
     "metadata": {},
     "output_type": "execute_result"
    }
   ],
   "source": [
    "orders[orders['order_id'] == 657]"
   ]
  },
  {
   "cell_type": "code",
   "execution_count": 121,
   "id": "2c7dcc18-f980-4ad0-bedc-8915346e47e2",
   "metadata": {
    "tags": []
   },
   "outputs": [
    {
     "data": {
      "text/html": [
       "<div>\n",
       "<style scoped>\n",
       "    .dataframe tbody tr th:only-of-type {\n",
       "        vertical-align: middle;\n",
       "    }\n",
       "\n",
       "    .dataframe tbody tr th {\n",
       "        vertical-align: top;\n",
       "    }\n",
       "\n",
       "    .dataframe thead th {\n",
       "        text-align: right;\n",
       "    }\n",
       "</style>\n",
       "<table border=\"1\" class=\"dataframe\">\n",
       "  <thead>\n",
       "    <tr style=\"text-align: right;\">\n",
       "      <th></th>\n",
       "      <th>id</th>\n",
       "      <th>order_id</th>\n",
       "      <th>user_id</th>\n",
       "      <th>product_id</th>\n",
       "      <th>inventory_item_id</th>\n",
       "      <th>status</th>\n",
       "      <th>created_at</th>\n",
       "      <th>shipped_at</th>\n",
       "      <th>delivered_at</th>\n",
       "      <th>returned_at</th>\n",
       "      <th>sale_price</th>\n",
       "    </tr>\n",
       "  </thead>\n",
       "  <tbody>\n",
       "    <tr>\n",
       "      <th>362</th>\n",
       "      <td>915</td>\n",
       "      <td>657</td>\n",
       "      <td>558</td>\n",
       "      <td>5786</td>\n",
       "      <td>2468</td>\n",
       "      <td>Cancelled</td>\n",
       "      <td>2025-06-15 01:52:26+00:00</td>\n",
       "      <td>NaT</td>\n",
       "      <td>NaT</td>\n",
       "      <td>NaT</td>\n",
       "      <td>9.95</td>\n",
       "    </tr>\n",
       "  </tbody>\n",
       "</table>\n",
       "</div>"
      ],
      "text/plain": [
       "      id  order_id  user_id  product_id  inventory_item_id     status  \\\n",
       "362  915       657      558        5786               2468  Cancelled   \n",
       "\n",
       "                   created_at shipped_at delivered_at returned_at  sale_price  \n",
       "362 2025-06-15 01:52:26+00:00        NaT          NaT         NaT        9.95  "
      ]
     },
     "execution_count": 121,
     "metadata": {},
     "output_type": "execute_result"
    }
   ],
   "source": [
    "order_df[order_df['order_id'] == 657]"
   ]
  },
  {
   "cell_type": "markdown",
   "id": "113b0c5e-7894-4a13-977e-443f197d72e5",
   "metadata": {},
   "source": [
    "We will ignore the orders table records which does not have the product info. We can do nothing for them"
   ]
  },
  {
   "cell_type": "code",
   "execution_count": 135,
   "id": "3dc4c684-506f-4137-873b-c23d3a31915e",
   "metadata": {
    "tags": []
   },
   "outputs": [],
   "source": [
    "# order_df['check_order_df'] = 1\n",
    "# orders['check_orders'] = 1\n",
    "final_order = order_df.merge(orders[['order_id', 'num_of_item']], \n",
    "                                  how='left', \n",
    "                                  on='order_id')"
   ]
  },
  {
   "cell_type": "code",
   "execution_count": 136,
   "id": "5f2ef167-e61e-40df-b88d-50b2a6ea73a9",
   "metadata": {
    "tags": []
   },
   "outputs": [
    {
     "data": {
      "text/html": [
       "<div>\n",
       "<style scoped>\n",
       "    .dataframe tbody tr th:only-of-type {\n",
       "        vertical-align: middle;\n",
       "    }\n",
       "\n",
       "    .dataframe tbody tr th {\n",
       "        vertical-align: top;\n",
       "    }\n",
       "\n",
       "    .dataframe thead th {\n",
       "        text-align: right;\n",
       "    }\n",
       "</style>\n",
       "<table border=\"1\" class=\"dataframe\">\n",
       "  <thead>\n",
       "    <tr style=\"text-align: right;\">\n",
       "      <th></th>\n",
       "      <th>id</th>\n",
       "      <th>order_id</th>\n",
       "      <th>user_id</th>\n",
       "      <th>product_id</th>\n",
       "      <th>inventory_item_id</th>\n",
       "      <th>status</th>\n",
       "      <th>created_at</th>\n",
       "      <th>shipped_at</th>\n",
       "      <th>delivered_at</th>\n",
       "      <th>returned_at</th>\n",
       "      <th>sale_price</th>\n",
       "      <th>num_of_item</th>\n",
       "    </tr>\n",
       "  </thead>\n",
       "  <tbody>\n",
       "    <tr>\n",
       "      <th>0</th>\n",
       "      <td>83423</td>\n",
       "      <td>57469</td>\n",
       "      <td>46209</td>\n",
       "      <td>14159</td>\n",
       "      <td>225145</td>\n",
       "      <td>Cancelled</td>\n",
       "      <td>2025-06-09 10:05:31+00:00</td>\n",
       "      <td>NaT</td>\n",
       "      <td>NaT</td>\n",
       "      <td>NaT</td>\n",
       "      <td>0.49</td>\n",
       "      <td>3</td>\n",
       "    </tr>\n",
       "    <tr>\n",
       "      <th>1</th>\n",
       "      <td>177565</td>\n",
       "      <td>122267</td>\n",
       "      <td>97924</td>\n",
       "      <td>28589</td>\n",
       "      <td>478804</td>\n",
       "      <td>Cancelled</td>\n",
       "      <td>2025-06-11 05:00:13+00:00</td>\n",
       "      <td>NaT</td>\n",
       "      <td>NaT</td>\n",
       "      <td>NaT</td>\n",
       "      <td>2.95</td>\n",
       "      <td>1</td>\n",
       "    </tr>\n",
       "    <tr>\n",
       "      <th>2</th>\n",
       "      <td>54103</td>\n",
       "      <td>37262</td>\n",
       "      <td>29843</td>\n",
       "      <td>9220</td>\n",
       "      <td>145953</td>\n",
       "      <td>Complete</td>\n",
       "      <td>2025-06-10 06:51:45+00:00</td>\n",
       "      <td>2025-06-12 04:36:00+00:00</td>\n",
       "      <td>2025-06-15 18:49:00+00:00</td>\n",
       "      <td>NaT</td>\n",
       "      <td>2.95</td>\n",
       "      <td>2</td>\n",
       "    </tr>\n",
       "    <tr>\n",
       "      <th>3</th>\n",
       "      <td>115413</td>\n",
       "      <td>79533</td>\n",
       "      <td>63765</td>\n",
       "      <td>13662</td>\n",
       "      <td>311380</td>\n",
       "      <td>Processing</td>\n",
       "      <td>2025-06-01 05:22:26+00:00</td>\n",
       "      <td>NaT</td>\n",
       "      <td>NaT</td>\n",
       "      <td>NaT</td>\n",
       "      <td>2.95</td>\n",
       "      <td>&lt;NA&gt;</td>\n",
       "    </tr>\n",
       "    <tr>\n",
       "      <th>4</th>\n",
       "      <td>101934</td>\n",
       "      <td>70273</td>\n",
       "      <td>56370</td>\n",
       "      <td>28921</td>\n",
       "      <td>274984</td>\n",
       "      <td>Returned</td>\n",
       "      <td>2025-06-26 14:57:28+00:00</td>\n",
       "      <td>2025-06-27 00:02:00+00:00</td>\n",
       "      <td>2025-06-30 09:58:00+00:00</td>\n",
       "      <td>2025-07-02 00:27:00+00:00</td>\n",
       "      <td>2.95</td>\n",
       "      <td>2</td>\n",
       "    </tr>\n",
       "    <tr>\n",
       "      <th>...</th>\n",
       "      <td>...</td>\n",
       "      <td>...</td>\n",
       "      <td>...</td>\n",
       "      <td>...</td>\n",
       "      <td>...</td>\n",
       "      <td>...</td>\n",
       "      <td>...</td>\n",
       "      <td>...</td>\n",
       "      <td>...</td>\n",
       "      <td>...</td>\n",
       "      <td>...</td>\n",
       "      <td>...</td>\n",
       "    </tr>\n",
       "    <tr>\n",
       "      <th>9530</th>\n",
       "      <td>95116</td>\n",
       "      <td>65570</td>\n",
       "      <td>52681</td>\n",
       "      <td>17094</td>\n",
       "      <td>256585</td>\n",
       "      <td>Cancelled</td>\n",
       "      <td>2025-06-14 11:14:02+00:00</td>\n",
       "      <td>NaT</td>\n",
       "      <td>NaT</td>\n",
       "      <td>NaT</td>\n",
       "      <td>903.00</td>\n",
       "      <td>2</td>\n",
       "    </tr>\n",
       "    <tr>\n",
       "      <th>9531</th>\n",
       "      <td>129792</td>\n",
       "      <td>89441</td>\n",
       "      <td>71702</td>\n",
       "      <td>22812</td>\n",
       "      <td>350204</td>\n",
       "      <td>Cancelled</td>\n",
       "      <td>2025-06-25 06:04:20+00:00</td>\n",
       "      <td>NaT</td>\n",
       "      <td>NaT</td>\n",
       "      <td>NaT</td>\n",
       "      <td>903.00</td>\n",
       "      <td>1</td>\n",
       "    </tr>\n",
       "    <tr>\n",
       "      <th>9532</th>\n",
       "      <td>134883</td>\n",
       "      <td>92930</td>\n",
       "      <td>74465</td>\n",
       "      <td>23648</td>\n",
       "      <td>364032</td>\n",
       "      <td>Cancelled</td>\n",
       "      <td>2025-06-26 07:18:40+00:00</td>\n",
       "      <td>NaT</td>\n",
       "      <td>NaT</td>\n",
       "      <td>NaT</td>\n",
       "      <td>903.00</td>\n",
       "      <td>1</td>\n",
       "    </tr>\n",
       "    <tr>\n",
       "      <th>9533</th>\n",
       "      <td>25942</td>\n",
       "      <td>17921</td>\n",
       "      <td>14415</td>\n",
       "      <td>22812</td>\n",
       "      <td>69857</td>\n",
       "      <td>Complete</td>\n",
       "      <td>2025-06-04 04:40:23+00:00</td>\n",
       "      <td>2025-06-05 17:55:00+00:00</td>\n",
       "      <td>2025-06-07 04:12:00+00:00</td>\n",
       "      <td>NaT</td>\n",
       "      <td>903.00</td>\n",
       "      <td>1</td>\n",
       "    </tr>\n",
       "    <tr>\n",
       "      <th>9534</th>\n",
       "      <td>163283</td>\n",
       "      <td>112514</td>\n",
       "      <td>90163</td>\n",
       "      <td>24283</td>\n",
       "      <td>440394</td>\n",
       "      <td>Complete</td>\n",
       "      <td>2025-06-23 12:24:45+00:00</td>\n",
       "      <td>2025-06-25 16:06:00+00:00</td>\n",
       "      <td>2025-06-28 09:16:00+00:00</td>\n",
       "      <td>NaT</td>\n",
       "      <td>903.00</td>\n",
       "      <td>2</td>\n",
       "    </tr>\n",
       "  </tbody>\n",
       "</table>\n",
       "<p>9535 rows × 12 columns</p>\n",
       "</div>"
      ],
      "text/plain": [
       "          id  order_id  user_id  product_id  inventory_item_id      status  \\\n",
       "0      83423     57469    46209       14159             225145   Cancelled   \n",
       "1     177565    122267    97924       28589             478804   Cancelled   \n",
       "2      54103     37262    29843        9220             145953    Complete   \n",
       "3     115413     79533    63765       13662             311380  Processing   \n",
       "4     101934     70273    56370       28921             274984    Returned   \n",
       "...      ...       ...      ...         ...                ...         ...   \n",
       "9530   95116     65570    52681       17094             256585   Cancelled   \n",
       "9531  129792     89441    71702       22812             350204   Cancelled   \n",
       "9532  134883     92930    74465       23648             364032   Cancelled   \n",
       "9533   25942     17921    14415       22812              69857    Complete   \n",
       "9534  163283    112514    90163       24283             440394    Complete   \n",
       "\n",
       "                    created_at                shipped_at  \\\n",
       "0    2025-06-09 10:05:31+00:00                       NaT   \n",
       "1    2025-06-11 05:00:13+00:00                       NaT   \n",
       "2    2025-06-10 06:51:45+00:00 2025-06-12 04:36:00+00:00   \n",
       "3    2025-06-01 05:22:26+00:00                       NaT   \n",
       "4    2025-06-26 14:57:28+00:00 2025-06-27 00:02:00+00:00   \n",
       "...                        ...                       ...   \n",
       "9530 2025-06-14 11:14:02+00:00                       NaT   \n",
       "9531 2025-06-25 06:04:20+00:00                       NaT   \n",
       "9532 2025-06-26 07:18:40+00:00                       NaT   \n",
       "9533 2025-06-04 04:40:23+00:00 2025-06-05 17:55:00+00:00   \n",
       "9534 2025-06-23 12:24:45+00:00 2025-06-25 16:06:00+00:00   \n",
       "\n",
       "                  delivered_at               returned_at  sale_price  \\\n",
       "0                          NaT                       NaT        0.49   \n",
       "1                          NaT                       NaT        2.95   \n",
       "2    2025-06-15 18:49:00+00:00                       NaT        2.95   \n",
       "3                          NaT                       NaT        2.95   \n",
       "4    2025-06-30 09:58:00+00:00 2025-07-02 00:27:00+00:00        2.95   \n",
       "...                        ...                       ...         ...   \n",
       "9530                       NaT                       NaT      903.00   \n",
       "9531                       NaT                       NaT      903.00   \n",
       "9532                       NaT                       NaT      903.00   \n",
       "9533 2025-06-07 04:12:00+00:00                       NaT      903.00   \n",
       "9534 2025-06-28 09:16:00+00:00                       NaT      903.00   \n",
       "\n",
       "      num_of_item  \n",
       "0               3  \n",
       "1               1  \n",
       "2               2  \n",
       "3            <NA>  \n",
       "4               2  \n",
       "...           ...  \n",
       "9530            2  \n",
       "9531            1  \n",
       "9532            1  \n",
       "9533            1  \n",
       "9534            2  \n",
       "\n",
       "[9535 rows x 12 columns]"
      ]
     },
     "execution_count": 136,
     "metadata": {},
     "output_type": "execute_result"
    }
   ],
   "source": [
    "final_order"
   ]
  },
  {
   "cell_type": "code",
   "execution_count": 138,
   "id": "d78fa5bf-4270-4947-970a-7b0e47e3586f",
   "metadata": {
    "tags": []
   },
   "outputs": [],
   "source": [
    "final_order = final_order.merge(user_data[['id', 'age', 'gender', 'state', 'country', \n",
    "                                           'traffic_source', 'user_geom']].rename(columns={'id': 'user_id'}), \n",
    "                 how='left', \n",
    "                 on='user_id')"
   ]
  },
  {
   "cell_type": "code",
   "execution_count": 140,
   "id": "21f4ff38-3deb-4cb1-9ea1-c1778f89aff0",
   "metadata": {
    "tags": []
   },
   "outputs": [],
   "source": [
    "final_order = final_order.merge(products_df[['id', 'cost', 'category', 'department', \n",
    "                                            'distribution_center_id']].rename(columns={'id': 'product_id'}), \n",
    "                 how='left', \n",
    "                 on='product_id')"
   ]
  },
  {
   "cell_type": "code",
   "execution_count": 146,
   "id": "7d411e27-b08b-465f-b462-925925f06752",
   "metadata": {
    "tags": []
   },
   "outputs": [],
   "source": [
    "final_order = final_order.merge(dist_centre_df[['id', 'name', 'distribution_center_geom']].rename(columns={'id': 'distribution_center_id'}), \n",
    "                 how='left', \n",
    "                 on='distribution_center_id')"
   ]
  },
  {
   "cell_type": "code",
   "execution_count": 150,
   "id": "062dfe8d-a0fc-4e84-9a86-b7ffa3834a92",
   "metadata": {
    "tags": []
   },
   "outputs": [
    {
     "data": {
      "text/html": [
       "<div>\n",
       "<style scoped>\n",
       "    .dataframe tbody tr th:only-of-type {\n",
       "        vertical-align: middle;\n",
       "    }\n",
       "\n",
       "    .dataframe tbody tr th {\n",
       "        vertical-align: top;\n",
       "    }\n",
       "\n",
       "    .dataframe thead th {\n",
       "        text-align: right;\n",
       "    }\n",
       "</style>\n",
       "<table border=\"1\" class=\"dataframe\">\n",
       "  <thead>\n",
       "    <tr style=\"text-align: right;\">\n",
       "      <th></th>\n",
       "      <th>id</th>\n",
       "      <th>order_id</th>\n",
       "      <th>user_id</th>\n",
       "      <th>product_id</th>\n",
       "      <th>inventory_item_id</th>\n",
       "      <th>status</th>\n",
       "      <th>created_at</th>\n",
       "      <th>shipped_at</th>\n",
       "      <th>delivered_at</th>\n",
       "      <th>returned_at</th>\n",
       "      <th>sale_price</th>\n",
       "      <th>num_of_item</th>\n",
       "      <th>age</th>\n",
       "      <th>gender</th>\n",
       "      <th>state</th>\n",
       "      <th>country</th>\n",
       "      <th>traffic_source</th>\n",
       "      <th>user_geom</th>\n",
       "      <th>cost</th>\n",
       "      <th>category</th>\n",
       "      <th>department</th>\n",
       "      <th>distribution_center_id</th>\n",
       "      <th>name</th>\n",
       "      <th>distribution_center_geom</th>\n",
       "    </tr>\n",
       "  </thead>\n",
       "  <tbody>\n",
       "    <tr>\n",
       "      <th>0</th>\n",
       "      <td>83423</td>\n",
       "      <td>57469</td>\n",
       "      <td>46209</td>\n",
       "      <td>14159</td>\n",
       "      <td>225145</td>\n",
       "      <td>Cancelled</td>\n",
       "      <td>2025-06-09 10:05:31+00:00</td>\n",
       "      <td>NaT</td>\n",
       "      <td>NaT</td>\n",
       "      <td>NaT</td>\n",
       "      <td>0.49</td>\n",
       "      <td>3</td>\n",
       "      <td>23</td>\n",
       "      <td>F</td>\n",
       "      <td>Gyeonggi-do</td>\n",
       "      <td>South Korea</td>\n",
       "      <td>Search</td>\n",
       "      <td>POINT(126.8531488 37.31049948)</td>\n",
       "      <td>0.177380</td>\n",
       "      <td>Accessories</td>\n",
       "      <td>Women</td>\n",
       "      <td>1</td>\n",
       "      <td>Memphis TN</td>\n",
       "      <td>POINT(-89.9711 35.1174)</td>\n",
       "    </tr>\n",
       "    <tr>\n",
       "      <th>1</th>\n",
       "      <td>177565</td>\n",
       "      <td>122267</td>\n",
       "      <td>97924</td>\n",
       "      <td>28589</td>\n",
       "      <td>478804</td>\n",
       "      <td>Cancelled</td>\n",
       "      <td>2025-06-11 05:00:13+00:00</td>\n",
       "      <td>NaT</td>\n",
       "      <td>NaT</td>\n",
       "      <td>NaT</td>\n",
       "      <td>2.95</td>\n",
       "      <td>1</td>\n",
       "      <td>51</td>\n",
       "      <td>M</td>\n",
       "      <td>Texas</td>\n",
       "      <td>United States</td>\n",
       "      <td>Search</td>\n",
       "      <td>POINT(-96.58105934 32.85831762)</td>\n",
       "      <td>1.295050</td>\n",
       "      <td>Accessories</td>\n",
       "      <td>Men</td>\n",
       "      <td>2</td>\n",
       "      <td>Chicago IL</td>\n",
       "      <td>POINT(-87.6847 41.8369)</td>\n",
       "    </tr>\n",
       "    <tr>\n",
       "      <th>2</th>\n",
       "      <td>54103</td>\n",
       "      <td>37262</td>\n",
       "      <td>29843</td>\n",
       "      <td>9220</td>\n",
       "      <td>145953</td>\n",
       "      <td>Complete</td>\n",
       "      <td>2025-06-10 06:51:45+00:00</td>\n",
       "      <td>2025-06-12 04:36:00+00:00</td>\n",
       "      <td>2025-06-15 18:49:00+00:00</td>\n",
       "      <td>NaT</td>\n",
       "      <td>2.95</td>\n",
       "      <td>2</td>\n",
       "      <td>52</td>\n",
       "      <td>F</td>\n",
       "      <td>Baden-Württemberg</td>\n",
       "      <td>Germany</td>\n",
       "      <td>Search</td>\n",
       "      <td>POINT(9.155348186 48.46038245)</td>\n",
       "      <td>1.132800</td>\n",
       "      <td>Socks &amp; Hosiery</td>\n",
       "      <td>Women</td>\n",
       "      <td>7</td>\n",
       "      <td>Philadelphia PA</td>\n",
       "      <td>POINT(-75.1667 39.95)</td>\n",
       "    </tr>\n",
       "    <tr>\n",
       "      <th>3</th>\n",
       "      <td>115413</td>\n",
       "      <td>79533</td>\n",
       "      <td>63765</td>\n",
       "      <td>13662</td>\n",
       "      <td>311380</td>\n",
       "      <td>Processing</td>\n",
       "      <td>2025-06-01 05:22:26+00:00</td>\n",
       "      <td>NaT</td>\n",
       "      <td>NaT</td>\n",
       "      <td>NaT</td>\n",
       "      <td>2.95</td>\n",
       "      <td>&lt;NA&gt;</td>\n",
       "      <td>25</td>\n",
       "      <td>F</td>\n",
       "      <td>Alagoas</td>\n",
       "      <td>Brasil</td>\n",
       "      <td>Search</td>\n",
       "      <td>POINT(-36.48241565 -10.23130153)</td>\n",
       "      <td>1.268500</td>\n",
       "      <td>Accessories</td>\n",
       "      <td>Women</td>\n",
       "      <td>9</td>\n",
       "      <td>Charleston SC</td>\n",
       "      <td>POINT(-79.9333 32.7833)</td>\n",
       "    </tr>\n",
       "    <tr>\n",
       "      <th>4</th>\n",
       "      <td>101934</td>\n",
       "      <td>70273</td>\n",
       "      <td>56370</td>\n",
       "      <td>28921</td>\n",
       "      <td>274984</td>\n",
       "      <td>Returned</td>\n",
       "      <td>2025-06-26 14:57:28+00:00</td>\n",
       "      <td>2025-06-27 00:02:00+00:00</td>\n",
       "      <td>2025-06-30 09:58:00+00:00</td>\n",
       "      <td>2025-07-02 00:27:00+00:00</td>\n",
       "      <td>2.95</td>\n",
       "      <td>2</td>\n",
       "      <td>33</td>\n",
       "      <td>M</td>\n",
       "      <td>England</td>\n",
       "      <td>United Kingdom</td>\n",
       "      <td>Search</td>\n",
       "      <td>POINT(-0.299401909 51.51406111)</td>\n",
       "      <td>1.321600</td>\n",
       "      <td>Accessories</td>\n",
       "      <td>Men</td>\n",
       "      <td>2</td>\n",
       "      <td>Chicago IL</td>\n",
       "      <td>POINT(-87.6847 41.8369)</td>\n",
       "    </tr>\n",
       "    <tr>\n",
       "      <th>...</th>\n",
       "      <td>...</td>\n",
       "      <td>...</td>\n",
       "      <td>...</td>\n",
       "      <td>...</td>\n",
       "      <td>...</td>\n",
       "      <td>...</td>\n",
       "      <td>...</td>\n",
       "      <td>...</td>\n",
       "      <td>...</td>\n",
       "      <td>...</td>\n",
       "      <td>...</td>\n",
       "      <td>...</td>\n",
       "      <td>...</td>\n",
       "      <td>...</td>\n",
       "      <td>...</td>\n",
       "      <td>...</td>\n",
       "      <td>...</td>\n",
       "      <td>...</td>\n",
       "      <td>...</td>\n",
       "      <td>...</td>\n",
       "      <td>...</td>\n",
       "      <td>...</td>\n",
       "      <td>...</td>\n",
       "      <td>...</td>\n",
       "    </tr>\n",
       "    <tr>\n",
       "      <th>9530</th>\n",
       "      <td>95116</td>\n",
       "      <td>65570</td>\n",
       "      <td>52681</td>\n",
       "      <td>17094</td>\n",
       "      <td>256585</td>\n",
       "      <td>Cancelled</td>\n",
       "      <td>2025-06-14 11:14:02+00:00</td>\n",
       "      <td>NaT</td>\n",
       "      <td>NaT</td>\n",
       "      <td>NaT</td>\n",
       "      <td>903.00</td>\n",
       "      <td>2</td>\n",
       "      <td>26</td>\n",
       "      <td>M</td>\n",
       "      <td>Shanghai</td>\n",
       "      <td>China</td>\n",
       "      <td>Organic</td>\n",
       "      <td>POINT(121.4798943 31.26134765)</td>\n",
       "      <td>524.643000</td>\n",
       "      <td>Fashion Hoodies &amp; Sweatshirts</td>\n",
       "      <td>Men</td>\n",
       "      <td>3</td>\n",
       "      <td>Houston TX</td>\n",
       "      <td>POINT(-95.3698 29.7604)</td>\n",
       "    </tr>\n",
       "    <tr>\n",
       "      <th>9531</th>\n",
       "      <td>129792</td>\n",
       "      <td>89441</td>\n",
       "      <td>71702</td>\n",
       "      <td>22812</td>\n",
       "      <td>350204</td>\n",
       "      <td>Cancelled</td>\n",
       "      <td>2025-06-25 06:04:20+00:00</td>\n",
       "      <td>NaT</td>\n",
       "      <td>NaT</td>\n",
       "      <td>NaT</td>\n",
       "      <td>903.00</td>\n",
       "      <td>1</td>\n",
       "      <td>60</td>\n",
       "      <td>M</td>\n",
       "      <td>Maryland</td>\n",
       "      <td>United States</td>\n",
       "      <td>Display</td>\n",
       "      <td>POINT(-76.68335104 39.34535799)</td>\n",
       "      <td>472.269000</td>\n",
       "      <td>Shorts</td>\n",
       "      <td>Men</td>\n",
       "      <td>9</td>\n",
       "      <td>Charleston SC</td>\n",
       "      <td>POINT(-79.9333 32.7833)</td>\n",
       "    </tr>\n",
       "    <tr>\n",
       "      <th>9532</th>\n",
       "      <td>134883</td>\n",
       "      <td>92930</td>\n",
       "      <td>74465</td>\n",
       "      <td>23648</td>\n",
       "      <td>364032</td>\n",
       "      <td>Cancelled</td>\n",
       "      <td>2025-06-26 07:18:40+00:00</td>\n",
       "      <td>NaT</td>\n",
       "      <td>NaT</td>\n",
       "      <td>NaT</td>\n",
       "      <td>903.00</td>\n",
       "      <td>1</td>\n",
       "      <td>24</td>\n",
       "      <td>M</td>\n",
       "      <td>Canarias</td>\n",
       "      <td>Spain</td>\n",
       "      <td>Search</td>\n",
       "      <td>POINT(-15.42336763 28.07310526)</td>\n",
       "      <td>399.126001</td>\n",
       "      <td>Outerwear &amp; Coats</td>\n",
       "      <td>Men</td>\n",
       "      <td>3</td>\n",
       "      <td>Houston TX</td>\n",
       "      <td>POINT(-95.3698 29.7604)</td>\n",
       "    </tr>\n",
       "    <tr>\n",
       "      <th>9533</th>\n",
       "      <td>25942</td>\n",
       "      <td>17921</td>\n",
       "      <td>14415</td>\n",
       "      <td>22812</td>\n",
       "      <td>69857</td>\n",
       "      <td>Complete</td>\n",
       "      <td>2025-06-04 04:40:23+00:00</td>\n",
       "      <td>2025-06-05 17:55:00+00:00</td>\n",
       "      <td>2025-06-07 04:12:00+00:00</td>\n",
       "      <td>NaT</td>\n",
       "      <td>903.00</td>\n",
       "      <td>1</td>\n",
       "      <td>45</td>\n",
       "      <td>M</td>\n",
       "      <td>New Jersey</td>\n",
       "      <td>United States</td>\n",
       "      <td>Search</td>\n",
       "      <td>POINT(-74.44430646 40.48525027)</td>\n",
       "      <td>472.269000</td>\n",
       "      <td>Shorts</td>\n",
       "      <td>Men</td>\n",
       "      <td>9</td>\n",
       "      <td>Charleston SC</td>\n",
       "      <td>POINT(-79.9333 32.7833)</td>\n",
       "    </tr>\n",
       "    <tr>\n",
       "      <th>9534</th>\n",
       "      <td>163283</td>\n",
       "      <td>112514</td>\n",
       "      <td>90163</td>\n",
       "      <td>24283</td>\n",
       "      <td>440394</td>\n",
       "      <td>Complete</td>\n",
       "      <td>2025-06-23 12:24:45+00:00</td>\n",
       "      <td>2025-06-25 16:06:00+00:00</td>\n",
       "      <td>2025-06-28 09:16:00+00:00</td>\n",
       "      <td>NaT</td>\n",
       "      <td>903.00</td>\n",
       "      <td>2</td>\n",
       "      <td>20</td>\n",
       "      <td>M</td>\n",
       "      <td>São Paulo</td>\n",
       "      <td>Brasil</td>\n",
       "      <td>Search</td>\n",
       "      <td>POINT(-46.5613569 -23.3175427)</td>\n",
       "      <td>370.230002</td>\n",
       "      <td>Outerwear &amp; Coats</td>\n",
       "      <td>Men</td>\n",
       "      <td>3</td>\n",
       "      <td>Houston TX</td>\n",
       "      <td>POINT(-95.3698 29.7604)</td>\n",
       "    </tr>\n",
       "  </tbody>\n",
       "</table>\n",
       "<p>9535 rows × 24 columns</p>\n",
       "</div>"
      ],
      "text/plain": [
       "          id  order_id  user_id  product_id  inventory_item_id      status  \\\n",
       "0      83423     57469    46209       14159             225145   Cancelled   \n",
       "1     177565    122267    97924       28589             478804   Cancelled   \n",
       "2      54103     37262    29843        9220             145953    Complete   \n",
       "3     115413     79533    63765       13662             311380  Processing   \n",
       "4     101934     70273    56370       28921             274984    Returned   \n",
       "...      ...       ...      ...         ...                ...         ...   \n",
       "9530   95116     65570    52681       17094             256585   Cancelled   \n",
       "9531  129792     89441    71702       22812             350204   Cancelled   \n",
       "9532  134883     92930    74465       23648             364032   Cancelled   \n",
       "9533   25942     17921    14415       22812              69857    Complete   \n",
       "9534  163283    112514    90163       24283             440394    Complete   \n",
       "\n",
       "                    created_at                shipped_at  \\\n",
       "0    2025-06-09 10:05:31+00:00                       NaT   \n",
       "1    2025-06-11 05:00:13+00:00                       NaT   \n",
       "2    2025-06-10 06:51:45+00:00 2025-06-12 04:36:00+00:00   \n",
       "3    2025-06-01 05:22:26+00:00                       NaT   \n",
       "4    2025-06-26 14:57:28+00:00 2025-06-27 00:02:00+00:00   \n",
       "...                        ...                       ...   \n",
       "9530 2025-06-14 11:14:02+00:00                       NaT   \n",
       "9531 2025-06-25 06:04:20+00:00                       NaT   \n",
       "9532 2025-06-26 07:18:40+00:00                       NaT   \n",
       "9533 2025-06-04 04:40:23+00:00 2025-06-05 17:55:00+00:00   \n",
       "9534 2025-06-23 12:24:45+00:00 2025-06-25 16:06:00+00:00   \n",
       "\n",
       "                  delivered_at               returned_at  sale_price  \\\n",
       "0                          NaT                       NaT        0.49   \n",
       "1                          NaT                       NaT        2.95   \n",
       "2    2025-06-15 18:49:00+00:00                       NaT        2.95   \n",
       "3                          NaT                       NaT        2.95   \n",
       "4    2025-06-30 09:58:00+00:00 2025-07-02 00:27:00+00:00        2.95   \n",
       "...                        ...                       ...         ...   \n",
       "9530                       NaT                       NaT      903.00   \n",
       "9531                       NaT                       NaT      903.00   \n",
       "9532                       NaT                       NaT      903.00   \n",
       "9533 2025-06-07 04:12:00+00:00                       NaT      903.00   \n",
       "9534 2025-06-28 09:16:00+00:00                       NaT      903.00   \n",
       "\n",
       "      num_of_item  age gender              state         country  \\\n",
       "0               3   23      F        Gyeonggi-do     South Korea   \n",
       "1               1   51      M              Texas   United States   \n",
       "2               2   52      F  Baden-Württemberg         Germany   \n",
       "3            <NA>   25      F            Alagoas          Brasil   \n",
       "4               2   33      M            England  United Kingdom   \n",
       "...           ...  ...    ...                ...             ...   \n",
       "9530            2   26      M           Shanghai           China   \n",
       "9531            1   60      M           Maryland   United States   \n",
       "9532            1   24      M           Canarias           Spain   \n",
       "9533            1   45      M         New Jersey   United States   \n",
       "9534            2   20      M          São Paulo          Brasil   \n",
       "\n",
       "     traffic_source                         user_geom        cost  \\\n",
       "0            Search    POINT(126.8531488 37.31049948)    0.177380   \n",
       "1            Search   POINT(-96.58105934 32.85831762)    1.295050   \n",
       "2            Search    POINT(9.155348186 48.46038245)    1.132800   \n",
       "3            Search  POINT(-36.48241565 -10.23130153)    1.268500   \n",
       "4            Search   POINT(-0.299401909 51.51406111)    1.321600   \n",
       "...             ...                               ...         ...   \n",
       "9530        Organic    POINT(121.4798943 31.26134765)  524.643000   \n",
       "9531        Display   POINT(-76.68335104 39.34535799)  472.269000   \n",
       "9532         Search   POINT(-15.42336763 28.07310526)  399.126001   \n",
       "9533         Search   POINT(-74.44430646 40.48525027)  472.269000   \n",
       "9534         Search    POINT(-46.5613569 -23.3175427)  370.230002   \n",
       "\n",
       "                           category department  distribution_center_id  \\\n",
       "0                       Accessories      Women                       1   \n",
       "1                       Accessories        Men                       2   \n",
       "2                   Socks & Hosiery      Women                       7   \n",
       "3                       Accessories      Women                       9   \n",
       "4                       Accessories        Men                       2   \n",
       "...                             ...        ...                     ...   \n",
       "9530  Fashion Hoodies & Sweatshirts        Men                       3   \n",
       "9531                         Shorts        Men                       9   \n",
       "9532              Outerwear & Coats        Men                       3   \n",
       "9533                         Shorts        Men                       9   \n",
       "9534              Outerwear & Coats        Men                       3   \n",
       "\n",
       "                 name distribution_center_geom  \n",
       "0          Memphis TN  POINT(-89.9711 35.1174)  \n",
       "1          Chicago IL  POINT(-87.6847 41.8369)  \n",
       "2     Philadelphia PA    POINT(-75.1667 39.95)  \n",
       "3       Charleston SC  POINT(-79.9333 32.7833)  \n",
       "4          Chicago IL  POINT(-87.6847 41.8369)  \n",
       "...               ...                      ...  \n",
       "9530       Houston TX  POINT(-95.3698 29.7604)  \n",
       "9531    Charleston SC  POINT(-79.9333 32.7833)  \n",
       "9532       Houston TX  POINT(-95.3698 29.7604)  \n",
       "9533    Charleston SC  POINT(-79.9333 32.7833)  \n",
       "9534       Houston TX  POINT(-95.3698 29.7604)  \n",
       "\n",
       "[9535 rows x 24 columns]"
      ]
     },
     "execution_count": 150,
     "metadata": {},
     "output_type": "execute_result"
    }
   ],
   "source": [
    "final_order"
   ]
  },
  {
   "cell_type": "markdown",
   "id": "e8e6ea76-fa1f-4347-b619-8737d72b409f",
   "metadata": {},
   "source": [
    "## Basic EDA"
   ]
  },
  {
   "cell_type": "code",
   "execution_count": 164,
   "id": "bc505499-5e7b-4ce4-b38e-4aa59aefce5d",
   "metadata": {
    "tags": []
   },
   "outputs": [
    {
     "data": {
      "text/plain": [
       "id                             0\n",
       "order_id                       0\n",
       "user_id                        0\n",
       "product_id                     0\n",
       "inventory_item_id              0\n",
       "status                         0\n",
       "created_at                     0\n",
       "shipped_at                  3364\n",
       "delivered_at                6315\n",
       "returned_at                 8624\n",
       "sale_price                     0\n",
       "num_of_item                  312\n",
       "age                            0\n",
       "gender                         0\n",
       "state                          0\n",
       "country                        0\n",
       "traffic_source                 0\n",
       "user_geom                      0\n",
       "cost                           0\n",
       "category                       0\n",
       "department                     0\n",
       "distribution_center_id         0\n",
       "name                           0\n",
       "distribution_center_geom       0\n",
       "dtype: int64"
      ]
     },
     "execution_count": 164,
     "metadata": {},
     "output_type": "execute_result"
    }
   ],
   "source": [
    "final_order.isna().sum()"
   ]
  },
  {
   "cell_type": "code",
   "execution_count": 165,
   "id": "312063d3-74bd-4ec7-8637-29f2bc74fcfe",
   "metadata": {
    "tags": []
   },
   "outputs": [
    {
     "data": {
      "text/plain": [
       "id                             0\n",
       "order_id                       0\n",
       "user_id                        0\n",
       "product_id                     0\n",
       "inventory_item_id              0\n",
       "status                         0\n",
       "created_at                     0\n",
       "shipped_at                     0\n",
       "delivered_at                2951\n",
       "returned_at                 2951\n",
       "sale_price                     0\n",
       "num_of_item                   79\n",
       "age                            0\n",
       "gender                         0\n",
       "state                          0\n",
       "country                        0\n",
       "traffic_source                 0\n",
       "user_geom                      0\n",
       "cost                           0\n",
       "category                       0\n",
       "department                     0\n",
       "distribution_center_id         0\n",
       "name                           0\n",
       "distribution_center_geom       0\n",
       "dtype: int64"
      ]
     },
     "execution_count": 165,
     "metadata": {},
     "output_type": "execute_result"
    }
   ],
   "source": [
    "### check if any null value in completed, returned items\n",
    "final_order[final_order['status'] == 'Shipped'].isna().sum()\n",
    "# order_df['status'].value_counts()"
   ]
  },
  {
   "cell_type": "code",
   "execution_count": 166,
   "id": "b6c0625d-74d1-4a05-8254-a6ff50e41f9e",
   "metadata": {
    "tags": []
   },
   "outputs": [
    {
     "data": {
      "text/plain": [
       "id                             0\n",
       "order_id                       0\n",
       "user_id                        0\n",
       "product_id                     0\n",
       "inventory_item_id              0\n",
       "status                         0\n",
       "created_at                     0\n",
       "shipped_at                     0\n",
       "delivered_at                   0\n",
       "returned_at                 2309\n",
       "sale_price                     0\n",
       "num_of_item                   89\n",
       "age                            0\n",
       "gender                         0\n",
       "state                          0\n",
       "country                        0\n",
       "traffic_source                 0\n",
       "user_geom                      0\n",
       "cost                           0\n",
       "category                       0\n",
       "department                     0\n",
       "distribution_center_id         0\n",
       "name                           0\n",
       "distribution_center_geom       0\n",
       "dtype: int64"
      ]
     },
     "execution_count": 166,
     "metadata": {},
     "output_type": "execute_result"
    }
   ],
   "source": [
    "final_order[final_order['status'] == 'Complete'].isna().sum()"
   ]
  },
  {
   "cell_type": "code",
   "execution_count": 167,
   "id": "1566ab50-37c2-4ada-9ba7-0f98ed412d16",
   "metadata": {
    "tags": []
   },
   "outputs": [
    {
     "data": {
      "text/plain": [
       "id                             0\n",
       "order_id                       0\n",
       "user_id                        0\n",
       "product_id                     0\n",
       "inventory_item_id              0\n",
       "status                         0\n",
       "created_at                     0\n",
       "shipped_at                  1898\n",
       "delivered_at                1898\n",
       "returned_at                 1898\n",
       "sale_price                     0\n",
       "num_of_item                   65\n",
       "age                            0\n",
       "gender                         0\n",
       "state                          0\n",
       "country                        0\n",
       "traffic_source                 0\n",
       "user_geom                      0\n",
       "cost                           0\n",
       "category                       0\n",
       "department                     0\n",
       "distribution_center_id         0\n",
       "name                           0\n",
       "distribution_center_geom       0\n",
       "dtype: int64"
      ]
     },
     "execution_count": 167,
     "metadata": {},
     "output_type": "execute_result"
    }
   ],
   "source": [
    "final_order[final_order['status'] == 'Processing'].isna().sum()"
   ]
  },
  {
   "cell_type": "code",
   "execution_count": 168,
   "id": "be884d04-cfb5-4d4e-aaa1-344f92cc6d5c",
   "metadata": {
    "tags": []
   },
   "outputs": [
    {
     "data": {
      "text/plain": [
       "id                             0\n",
       "order_id                       0\n",
       "user_id                        0\n",
       "product_id                     0\n",
       "inventory_item_id              0\n",
       "status                         0\n",
       "created_at                     0\n",
       "shipped_at                  1466\n",
       "delivered_at                1466\n",
       "returned_at                 1466\n",
       "sale_price                     0\n",
       "num_of_item                   48\n",
       "age                            0\n",
       "gender                         0\n",
       "state                          0\n",
       "country                        0\n",
       "traffic_source                 0\n",
       "user_geom                      0\n",
       "cost                           0\n",
       "category                       0\n",
       "department                     0\n",
       "distribution_center_id         0\n",
       "name                           0\n",
       "distribution_center_geom       0\n",
       "dtype: int64"
      ]
     },
     "execution_count": 168,
     "metadata": {},
     "output_type": "execute_result"
    }
   ],
   "source": [
    "final_order[final_order['status'] == 'Cancelled'].isna().sum()"
   ]
  },
  {
   "cell_type": "code",
   "execution_count": 169,
   "id": "0ffda97b-052f-4cdd-b9ee-c616d3325f70",
   "metadata": {
    "tags": []
   },
   "outputs": [
    {
     "data": {
      "text/plain": [
       "id                           0\n",
       "order_id                     0\n",
       "user_id                      0\n",
       "product_id                   0\n",
       "inventory_item_id            0\n",
       "status                       0\n",
       "created_at                   0\n",
       "shipped_at                   0\n",
       "delivered_at                 0\n",
       "returned_at                  0\n",
       "sale_price                   0\n",
       "num_of_item                 31\n",
       "age                          0\n",
       "gender                       0\n",
       "state                        0\n",
       "country                      0\n",
       "traffic_source               0\n",
       "user_geom                    0\n",
       "cost                         0\n",
       "category                     0\n",
       "department                   0\n",
       "distribution_center_id       0\n",
       "name                         0\n",
       "distribution_center_geom     0\n",
       "dtype: int64"
      ]
     },
     "execution_count": 169,
     "metadata": {},
     "output_type": "execute_result"
    }
   ],
   "source": [
    "final_order[final_order['status'] == 'Returned'].isna().sum()"
   ]
  },
  {
   "cell_type": "code",
   "execution_count": 163,
   "id": "eebf9787-0110-482d-a826-1a0688f06c25",
   "metadata": {
    "tags": []
   },
   "outputs": [],
   "source": [
    "## genderwise order pattern"
   ]
  },
  {
   "cell_type": "code",
   "execution_count": 179,
   "id": "abfaaabe-2f90-4a59-8272-8f63b3c0f6df",
   "metadata": {
    "tags": []
   },
   "outputs": [
    {
     "data": {
      "image/png": "[encoded data removed]",
      "text/plain": [
       "<Figure size 640x480 with 1 Axes>"
      ]
     },
     "metadata": {},
     "output_type": "display_data"
    }
   ],
   "source": [
    "ax = sns.countplot(x='country', data=final_order, hue='gender')\n",
    "plt.xticks(rotation=45)\n",
    "plt.show()"
   ]
  },
  {
   "cell_type": "code",
   "execution_count": 182,
   "id": "9c56f4b6-7691-42ec-9d39-5f84a8834a94",
   "metadata": {
    "tags": []
   },
   "outputs": [
    {
     "data": {
      "text/plain": [
       "<Axes: xlabel='gender', ylabel='age'>"
      ]
     },
     "execution_count": 182,
     "metadata": {},
     "output_type": "execute_result"
    },
    {
     "data": {
      "image/png": "[encoded data removed]",
      "text/plain": [
       "<Figure size 640x480 with 1 Axes>"
      ]
     },
     "metadata": {},
     "output_type": "display_data"
    }
   ],
   "source": [
    "sns.violinplot(x='gender', y='age', data=final_order)"
   ]
  },
  {
   "cell_type": "code",
   "execution_count": 184,
   "id": "dd1c60d7-7975-43fc-9956-62cdb4f5bca7",
   "metadata": {
    "tags": []
   },
   "outputs": [
    {
     "data": {
      "text/plain": [
       "<Axes: xlabel='traffic_source', ylabel='count'>"
      ]
     },
     "execution_count": 184,
     "metadata": {},
     "output_type": "execute_result"
    },
    {
     "data": {
      "image/png": "[encoded data removed]",
      "text/plain": [
       "<Figure size 640x480 with 1 Axes>"
      ]
     },
     "metadata": {},
     "output_type": "display_data"
    }
   ],
   "source": [
    "sns.countplot(x='traffic_source', data=final_order, hue='gender')"
   ]
  },
  {
   "cell_type": "code",
   "execution_count": 185,
   "id": "59cc8052-2e09-4776-81d3-935603fe3c73",
   "metadata": {
    "tags": []
   },
   "outputs": [
    {
     "data": {
      "text/plain": [
       "<Axes: xlabel='traffic_source', ylabel='age'>"
      ]
     },
     "execution_count": 185,
     "metadata": {},
     "output_type": "execute_result"
    },
    {
     "data": {
      "image/png": "[encoded data removed]",
      "text/plain": [
       "<Figure size 640x480 with 1 Axes>"
      ]
     },
     "metadata": {},
     "output_type": "display_data"
    }
   ],
   "source": [
    "sns.boxplot(x='traffic_source', y='age', data=final_order)"
   ]
  },
  {
   "cell_type": "code",
   "execution_count": 189,
   "id": "a17ce7ea-5b6f-4c80-914a-d9c93d80d503",
   "metadata": {
    "tags": []
   },
   "outputs": [
    {
     "data": {
      "text/plain": [
       "<Axes: xlabel='age', ylabel='cost'>"
      ]
     },
     "execution_count": 189,
     "metadata": {},
     "output_type": "execute_result"
    },
    {
     "data": {
      "image/png": "[encoded data removed]",
      "text/plain": [
       "<Figure size 640x480 with 1 Axes>"
      ]
     },
     "metadata": {},
     "output_type": "display_data"
    }
   ],
   "source": [
    "sns.lineplot(x='age', y='cost', data=final_order, hue='gender', )"
   ]
  },
  {
   "cell_type": "code",
   "execution_count": 190,
   "id": "047c5491-e4c5-475c-bb60-640e282a64ba",
   "metadata": {
    "tags": []
   },
   "outputs": [
    {
     "data": {
      "text/plain": [
       "<Axes: xlabel='age', ylabel='sale_price'>"
      ]
     },
     "execution_count": 190,
     "metadata": {},
     "output_type": "execute_result"
    },
    {
     "data": {
      "image/png": "[encoded data removed]",
      "text/plain": [
       "<Figure size 640x480 with 1 Axes>"
      ]
     },
     "metadata": {},
     "output_type": "display_data"
    }
   ],
   "source": [
    "sns.lineplot(x='age', y='sale_price', data=final_order, hue='gender', )"
   ]
  },
  {
   "cell_type": "code",
   "execution_count": 191,
   "id": "115729fa-81f0-432e-a1cf-b0eba0efca9e",
   "metadata": {
    "tags": []
   },
   "outputs": [
    {
     "data": {
      "text/plain": [
       "<Axes: xlabel='status', ylabel='count'>"
      ]
     },
     "execution_count": 191,
     "metadata": {},
     "output_type": "execute_result"
    },
    {
     "data": {
      "image/png": "[encoded data removed]",
      "text/plain": [
       "<Figure size 640x480 with 1 Axes>"
      ]
     },
     "metadata": {},
     "output_type": "display_data"
    }
   ],
   "source": [
    "sns.countplot(x='status', data=final_order, hue='gender')"
   ]
  },
  {
   "cell_type": "code",
   "execution_count": 192,
   "id": "269babb3-0881-4fa8-8e94-40b10a15cde5",
   "metadata": {
    "tags": []
   },
   "outputs": [
    {
     "data": {
      "text/plain": [
       "<Axes: xlabel='status', ylabel='age'>"
      ]
     },
     "execution_count": 192,
     "metadata": {},
     "output_type": "execute_result"
    },
    {
     "data": {
      "image/png": "[encoded data removed]",
      "text/plain": [
       "<Figure size 640x480 with 1 Axes>"
      ]
     },
     "metadata": {},
     "output_type": "display_data"
    }
   ],
   "source": [
    "sns.barplot(x='status', y='age', data=final_order)"
   ]
  },
  {
   "cell_type": "code",
   "execution_count": 219,
   "id": "118307e1-df7f-4c27-9889-f3342c1d2552",
   "metadata": {
    "tags": []
   },
   "outputs": [
    {
     "data": {
      "text/html": [
       "<div>\n",
       "<style scoped>\n",
       "    .dataframe tbody tr th:only-of-type {\n",
       "        vertical-align: middle;\n",
       "    }\n",
       "\n",
       "    .dataframe tbody tr th {\n",
       "        vertical-align: top;\n",
       "    }\n",
       "\n",
       "    .dataframe thead th {\n",
       "        text-align: right;\n",
       "    }\n",
       "</style>\n",
       "<table border=\"1\" class=\"dataframe\">\n",
       "  <thead>\n",
       "    <tr style=\"text-align: right;\">\n",
       "      <th></th>\n",
       "      <th>id</th>\n",
       "      <th>order_id</th>\n",
       "      <th>user_id</th>\n",
       "      <th>product_id</th>\n",
       "      <th>inventory_item_id</th>\n",
       "      <th>status</th>\n",
       "      <th>created_at</th>\n",
       "      <th>shipped_at</th>\n",
       "      <th>delivered_at</th>\n",
       "      <th>returned_at</th>\n",
       "      <th>sale_price</th>\n",
       "      <th>num_of_item</th>\n",
       "      <th>age</th>\n",
       "      <th>gender</th>\n",
       "      <th>state</th>\n",
       "      <th>country</th>\n",
       "      <th>traffic_source</th>\n",
       "      <th>user_geom</th>\n",
       "      <th>cost</th>\n",
       "      <th>category</th>\n",
       "      <th>department</th>\n",
       "      <th>distribution_center_id</th>\n",
       "      <th>name</th>\n",
       "      <th>distribution_center_geom</th>\n",
       "    </tr>\n",
       "  </thead>\n",
       "  <tbody>\n",
       "    <tr>\n",
       "      <th>0</th>\n",
       "      <td>83423</td>\n",
       "      <td>57469</td>\n",
       "      <td>46209</td>\n",
       "      <td>14159</td>\n",
       "      <td>225145</td>\n",
       "      <td>Cancelled</td>\n",
       "      <td>2025-06-09 10:05:31+00:00</td>\n",
       "      <td>NaT</td>\n",
       "      <td>NaT</td>\n",
       "      <td>NaT</td>\n",
       "      <td>0.49</td>\n",
       "      <td>3</td>\n",
       "      <td>23</td>\n",
       "      <td>F</td>\n",
       "      <td>Gyeonggi-do</td>\n",
       "      <td>South Korea</td>\n",
       "      <td>Search</td>\n",
       "      <td>POINT(126.8531488 37.31049948)</td>\n",
       "      <td>0.17738</td>\n",
       "      <td>Accessories</td>\n",
       "      <td>Women</td>\n",
       "      <td>1</td>\n",
       "      <td>Memphis TN</td>\n",
       "      <td>POINT(-89.9711 35.1174)</td>\n",
       "    </tr>\n",
       "    <tr>\n",
       "      <th>1</th>\n",
       "      <td>177565</td>\n",
       "      <td>122267</td>\n",
       "      <td>97924</td>\n",
       "      <td>28589</td>\n",
       "      <td>478804</td>\n",
       "      <td>Cancelled</td>\n",
       "      <td>2025-06-11 05:00:13+00:00</td>\n",
       "      <td>NaT</td>\n",
       "      <td>NaT</td>\n",
       "      <td>NaT</td>\n",
       "      <td>2.95</td>\n",
       "      <td>1</td>\n",
       "      <td>51</td>\n",
       "      <td>M</td>\n",
       "      <td>Texas</td>\n",
       "      <td>United States</td>\n",
       "      <td>Search</td>\n",
       "      <td>POINT(-96.58105934 32.85831762)</td>\n",
       "      <td>1.29505</td>\n",
       "      <td>Accessories</td>\n",
       "      <td>Men</td>\n",
       "      <td>2</td>\n",
       "      <td>Chicago IL</td>\n",
       "      <td>POINT(-87.6847 41.8369)</td>\n",
       "    </tr>\n",
       "  </tbody>\n",
       "</table>\n",
       "</div>"
      ],
      "text/plain": [
       "       id  order_id  user_id  product_id  inventory_item_id     status  \\\n",
       "0   83423     57469    46209       14159             225145  Cancelled   \n",
       "1  177565    122267    97924       28589             478804  Cancelled   \n",
       "\n",
       "                 created_at shipped_at delivered_at returned_at  sale_price  \\\n",
       "0 2025-06-09 10:05:31+00:00        NaT          NaT         NaT        0.49   \n",
       "1 2025-06-11 05:00:13+00:00        NaT          NaT         NaT        2.95   \n",
       "\n",
       "   num_of_item  age gender        state        country traffic_source  \\\n",
       "0            3   23      F  Gyeonggi-do    South Korea         Search   \n",
       "1            1   51      M        Texas  United States         Search   \n",
       "\n",
       "                         user_geom     cost     category department  \\\n",
       "0   POINT(126.8531488 37.31049948)  0.17738  Accessories      Women   \n",
       "1  POINT(-96.58105934 32.85831762)  1.29505  Accessories        Men   \n",
       "\n",
       "   distribution_center_id        name distribution_center_geom  \n",
       "0                       1  Memphis TN  POINT(-89.9711 35.1174)  \n",
       "1                       2  Chicago IL  POINT(-87.6847 41.8369)  "
      ]
     },
     "execution_count": 219,
     "metadata": {},
     "output_type": "execute_result"
    }
   ],
   "source": [
    "final_order.head(2)"
   ]
  },
  {
   "cell_type": "code",
   "execution_count": 224,
   "id": "4a731aad-bfa5-45b2-9676-b2c64a426477",
   "metadata": {
    "tags": []
   },
   "outputs": [
    {
     "data": {
      "text/plain": [
       "([0, 1], [Text(0, 0, 'F'), Text(1, 0, 'M')])"
      ]
     },
     "execution_count": 224,
     "metadata": {},
     "output_type": "execute_result"
    },
    {
     "data": {
      "image/png": "[encoded data removed]",
      "text/plain": [
       "<Figure size 640x480 with 1 Axes>"
      ]
     },
     "metadata": {},
     "output_type": "display_data"
    }
   ],
   "source": [
    "sns.countplot(x='gender', data=final_order, hue='department')\n",
    "plt.xticks(rotation=30)"
   ]
  },
  {
   "cell_type": "code",
   "execution_count": 227,
   "id": "ed453130-3d27-4e60-a668-cb161836a735",
   "metadata": {
    "tags": []
   },
   "outputs": [
    {
     "data": {
      "text/plain": [
       "gender\n",
       "F    4818\n",
       "M    4717\n",
       "dtype: int64"
      ]
     },
     "execution_count": 227,
     "metadata": {},
     "output_type": "execute_result"
    }
   ],
   "source": [
    "final_order.groupby(['gender']).size()"
   ]
  },
  {
   "cell_type": "code",
   "execution_count": 226,
   "id": "6e5a08c2-a6b5-47a7-ae22-b01400c7f6f5",
   "metadata": {
    "tags": []
   },
   "outputs": [
    {
     "data": {
      "text/plain": [
       "category                       gender\n",
       "Accessories                    F         225\n",
       "                               M         303\n",
       "Active                         F         200\n",
       "                               M         259\n",
       "Blazers & Jackets              F         164\n",
       "Clothing Sets                  F          11\n",
       "Dresses                        F         266\n",
       "Fashion Hoodies & Sweatshirts  F         292\n",
       "                               M         334\n",
       "Intimates                      F         743\n",
       "Jeans                          F         258\n",
       "                               M         405\n",
       "Jumpsuits & Rompers            F          61\n",
       "Leggings                       F         169\n",
       "Maternity                      F         263\n",
       "Outerwear & Coats              F         198\n",
       "                               M         293\n",
       "Pants                          M         380\n",
       "Pants & Capris                 F         182\n",
       "Plus                           F         202\n",
       "Shorts                         F         246\n",
       "                               M         314\n",
       "Skirts                         F         106\n",
       "Sleep & Lounge                 F         239\n",
       "                               M         332\n",
       "Socks                          M         319\n",
       "Socks & Hosiery                F         207\n",
       "Suits                          F          59\n",
       "Suits & Sport Coats            M         271\n",
       "Sweaters                       F         206\n",
       "                               M         365\n",
       "Swim                           F         292\n",
       "                               M         323\n",
       "Tops & Tees                    F         229\n",
       "                               M         421\n",
       "Underwear                      M         398\n",
       "dtype: int64"
      ]
     },
     "execution_count": 226,
     "metadata": {},
     "output_type": "execute_result"
    }
   ],
   "source": [
    "final_order.groupby(['category', 'gender']).size()"
   ]
  },
  {
   "cell_type": "code",
   "execution_count": 228,
   "id": "fb1f99bc-c95f-49de-9ca7-d2e68219122b",
   "metadata": {
    "tags": []
   },
   "outputs": [
    {
     "data": {
      "text/plain": [
       "category                       department\n",
       "Accessories                    Men           303\n",
       "                               Women         225\n",
       "Active                         Men           259\n",
       "                               Women         200\n",
       "Blazers & Jackets              Women         164\n",
       "Clothing Sets                  Women          11\n",
       "Dresses                        Women         266\n",
       "Fashion Hoodies & Sweatshirts  Men           334\n",
       "                               Women         292\n",
       "Intimates                      Women         743\n",
       "Jeans                          Men           405\n",
       "                               Women         258\n",
       "Jumpsuits & Rompers            Women          61\n",
       "Leggings                       Women         169\n",
       "Maternity                      Women         263\n",
       "Outerwear & Coats              Men           293\n",
       "                               Women         198\n",
       "Pants                          Men           380\n",
       "Pants & Capris                 Women         182\n",
       "Plus                           Women         202\n",
       "Shorts                         Men           314\n",
       "                               Women         246\n",
       "Skirts                         Women         106\n",
       "Sleep & Lounge                 Men           332\n",
       "                               Women         239\n",
       "Socks                          Men           319\n",
       "Socks & Hosiery                Women         207\n",
       "Suits                          Women          59\n",
       "Suits & Sport Coats            Men           271\n",
       "Sweaters                       Men           365\n",
       "                               Women         206\n",
       "Swim                           Men           323\n",
       "                               Women         292\n",
       "Tops & Tees                    Men           421\n",
       "                               Women         229\n",
       "Underwear                      Men           398\n",
       "dtype: int64"
      ]
     },
     "execution_count": 228,
     "metadata": {},
     "output_type": "execute_result"
    }
   ],
   "source": [
    "final_order.groupby(['category', 'department']).size()"
   ]
  },
  {
   "cell_type": "code",
   "execution_count": 229,
   "id": "1351524a-fafa-4430-ba99-c28e64b8a8cd",
   "metadata": {
    "tags": []
   },
   "outputs": [
    {
     "data": {
      "text/plain": [
       "department\n",
       "Men      30.978576\n",
       "Women    26.658038\n",
       "Name: cost, dtype: float64"
      ]
     },
     "execution_count": 229,
     "metadata": {},
     "output_type": "execute_result"
    }
   ],
   "source": [
    "final_order.groupby('department')['cost'].mean()"
   ]
  },
  {
   "cell_type": "code",
   "execution_count": 230,
   "id": "8a591755-da36-42c3-a876-a8b1c9879812",
   "metadata": {
    "tags": []
   },
   "outputs": [
    {
     "data": {
      "text/plain": [
       "gender\n",
       "F    26.658038\n",
       "M    30.978576\n",
       "Name: cost, dtype: float64"
      ]
     },
     "execution_count": 230,
     "metadata": {},
     "output_type": "execute_result"
    }
   ],
   "source": [
    "final_order.groupby('gender')['cost'].mean()"
   ]
  },
  {
   "cell_type": "code",
   "execution_count": 232,
   "id": "e068355e-8b23-4440-a75c-6fea09b274e7",
   "metadata": {
    "tags": []
   },
   "outputs": [
    {
     "data": {
      "text/plain": [
       "gender\n",
       "F    8947\n",
       "M    8522\n",
       "Name: num_of_item, dtype: Int64"
      ]
     },
     "execution_count": 232,
     "metadata": {},
     "output_type": "execute_result"
    }
   ],
   "source": [
    "final_order.groupby('gender').agg(total_order)"
   ]
  },
  {
   "cell_type": "code",
   "execution_count": null,
   "id": "8926de5f-f710-46ee-8f89-0e0d013fd021",
   "metadata": {},
   "outputs": [],
   "source": []
  }
 ],
 "metadata": {
  "environment": {
   "kernel": "conda-base-py",
   "name": "workbench-notebooks.m130",
   "type": "gcloud",
   "uri": "us-docker.pkg.dev/deeplearning-platform-release/gcr.io/workbench-notebooks:m130"
  },
  "kernelspec": {
   "display_name": "Python 3 (ipykernel) (Local)",
   "language": "python",
   "name": "conda-base-py"
  },
  "language_info": {
   "codemirror_mode": {
    "name": "ipython",
    "version": 3
   },
   "file_extension": ".py",
   "mimetype": "text/x-python",
   "name": "python",
   "nbconvert_exporter": "python",
   "pygments_lexer": "ipython3",
   "version": "3.10.18"
  }
 },
 "nbformat": 4,
 "nbformat_minor": 5
}
